{
 "cells": [
  {
   "cell_type": "markdown",
   "metadata": {},
   "source": [
    "This notebook contains code that demonstrates linear regression. Uncomment lines to learn more."
   ]
  },
  {
   "cell_type": "code",
   "execution_count": 71,
   "metadata": {},
   "outputs": [],
   "source": [
    "# Import tensorflow and other libraries.\n",
    "from __future__ import absolute_import\n",
    "from __future__ import division\n",
    "from __future__ import print_function\n",
    "\n",
    "import tensorflow as tf\n",
    "\n",
    "import numpy as np\n",
    "import math\n",
    "\n",
    "%matplotlib inline\n",
    "import pylab"
   ]
  },
  {
   "cell_type": "code",
   "execution_count": 72,
   "metadata": {},
   "outputs": [],
   "source": [
    "sess = None\n",
    "def resetSession():\n",
    "    tf.reset_default_graph()\n",
    "    global sess\n",
    "    if sess is not None: sess.close()\n",
    "    sess = tf.InteractiveSession()"
   ]
  },
  {
   "cell_type": "code",
   "execution_count": 73,
   "metadata": {},
   "outputs": [
    {
     "data": {
      "text/plain": [
       "[<matplotlib.lines.Line2D at 0x1829135d50>]"
      ]
     },
     "execution_count": 73,
     "metadata": {},
     "output_type": "execute_result"
    },
    {
     "data": {
      "image/png": "[encoded data removed]",
      "text/plain": [
       "<matplotlib.figure.Figure at 0x182860e9d0>"
      ]
     },
     "metadata": {},
     "output_type": "display_data"
    }
   ],
   "source": [
    "resetSession()\n",
    "\n",
    "# Create input data using NumPy. y = x * 0.1 + 0.3 + noise\n",
    "x_train = np.random.rand(100).astype(np.float32)\n",
    "noise = np.random.normal(scale=0.01, size=len(x_train))\n",
    "y_train = x_train * 0.1 + 0.3 + noise\n",
    "\n",
    "# Uncomment the following line to plot our input data.\n",
    "pylab.plot(x_train, y_train, '.')"
   ]
  },
  {
   "cell_type": "code",
   "execution_count": 74,
   "metadata": {},
   "outputs": [],
   "source": [
    "# Create some fake evaluation data\n",
    "x_eval = np.random.rand(len(x_train)).astype(np.float32)\n",
    "noise = np.random.normal(scale=0.01, size=len(x_train))\n",
    "y_eval = x_eval * 0.1 + 0.3 + noise"
   ]
  },
  {
   "cell_type": "code",
   "execution_count": 75,
   "metadata": {},
   "outputs": [
    {
     "name": "stdout",
     "output_type": "stream",
     "text": [
      "<tf.Variable 'weights:0' shape=(1,) dtype=float32_ref>\n",
      "<tf.Variable 'bias:0' shape=(1,) dtype=float32_ref>\n",
      "Tensor(\"x:0\", shape=(?,), dtype=float32)\n"
     ]
    }
   ],
   "source": [
    "# Build inference graph.\n",
    "# Create Variables W and b that compute y_data = W * x_data + b\n",
    "W = tf.Variable(tf.random_normal([1]), name='weights')\n",
    "b = tf.Variable(tf.random_normal([1]), name='bias')\n",
    "\n",
    "# Uncomment the following lines to see what W and b are.\n",
    "print(W)\n",
    "print(b)\n",
    "\n",
    "# Create a placeholder we'll use later to feed x's into the graph for training and eval.\n",
    "# shape=[None] means we can put in any number of examples. \n",
    "# This is used for minibatch training, and to evaluate a lot of examples at once.\n",
    "x = tf.placeholder(shape=[None], dtype=tf.float32, name='x')\n",
    "\n",
    "# Uncomment this line to see what x is\n",
    "print(x)\n",
    "\n",
    "# This is the same as tf.add(tf.mul(W, x), b), but looks nicer\n",
    "y = W * x + b"
   ]
  },
  {
   "cell_type": "markdown",
   "metadata": {},
   "source": [
    "At this point, we have:\n",
    "* x_train: x input features\n",
    "* y_train: observed y for each x that we will train on\n",
    "* x_eval, y_eval: Same as above, but a smaller set that we will not train on, and instead evaluate our effectiveness. "
   ]
  },
  {
   "cell_type": "code",
   "execution_count": 76,
   "metadata": {},
   "outputs": [],
   "source": [
    "# Write the graph so we can look at it in TensorBoard\n",
    "# https://www.tensorflow.org/versions/r0.12/how_tos/summaries_and_tensorboard/index.html\n",
    "sw = tf.summary.FileWriter('summaries/', graph=tf.get_default_graph())"
   ]
  },
  {
   "cell_type": "code",
   "execution_count": 77,
   "metadata": {},
   "outputs": [
    {
     "name": "stdout",
     "output_type": "stream",
     "text": [
      "Tensor(\"y_label:0\", shape=(?,), dtype=float32)\n"
     ]
    }
   ],
   "source": [
    "# Create a placeholder we'll use later to feed the correct y value into the graph\n",
    "y_label = tf.placeholder(shape=[None], dtype=tf.float32, name='y_label')\n",
    "print (y_label)"
   ]
  },
  {
   "cell_type": "code",
   "execution_count": 78,
   "metadata": {},
   "outputs": [
    {
     "name": "stdout",
     "output_type": "stream",
     "text": [
      "loss: Tensor(\"Mean:0\", shape=(), dtype=float32)\n",
      "optimizer: <tensorflow.python.training.gradient_descent.GradientDescentOptimizer object at 0x1829048190>\n",
      "train: name: \"GradientDescent\"\n",
      "op: \"NoOp\"\n",
      "input: \"^GradientDescent/update_weights/ApplyGradientDescent\"\n",
      "input: \"^GradientDescent/update_bias/ApplyGradientDescent\"\n",
      "\n"
     ]
    }
   ],
   "source": [
    "# Build training graph.\n",
    "loss = tf.reduce_mean(tf.square(y - y_label))  # Create an operation that calculates loss.\n",
    "optimizer = tf.train.GradientDescentOptimizer(0.5)  # Create an optimizer.\n",
    "train = optimizer.minimize(loss)  # Create an operation that minimizes loss.\n",
    "\n",
    "# Uncomment the following 3 lines to see what 'loss', 'optimizer' and 'train' are.\n",
    "print(\"loss:\", loss)\n",
    "print(\"optimizer:\", optimizer)\n",
    "print(\"train:\", train)"
   ]
  },
  {
   "cell_type": "code",
   "execution_count": 79,
   "metadata": {},
   "outputs": [
    {
     "name": "stdout",
     "output_type": "stream",
     "text": [
      "name: \"init\"\n",
      "op: \"NoOp\"\n",
      "input: \"^weights/Assign\"\n",
      "input: \"^bias/Assign\"\n",
      "\n"
     ]
    }
   ],
   "source": [
    "# Create an operation to initialize all the variables.\n",
    "init = tf.global_variables_initializer()\n",
    "print(init)\n",
    "sess.run(init)"
   ]
  },
  {
   "cell_type": "code",
   "execution_count": 80,
   "metadata": {},
   "outputs": [
    {
     "name": "stdout",
     "output_type": "stream",
     "text": [
      "[array([-0.74780548], dtype=float32), array([-1.29024541], dtype=float32)]\n"
     ]
    }
   ],
   "source": [
    "# Uncomment the following line to see the initial W and b values.\n",
    "print(sess.run([W, b]))"
   ]
  },
  {
   "cell_type": "code",
   "execution_count": 81,
   "metadata": {},
   "outputs": [
    {
     "data": {
      "text/plain": [
       "array([-3.53366184], dtype=float32)"
      ]
     },
     "execution_count": 81,
     "metadata": {},
     "output_type": "execute_result"
    }
   ],
   "source": [
    "# Uncomment these lines to test that we can compute a y from an x (without having trained anything). \n",
    "# x must be a vector, hence [3] not just 3.\n",
    "x_in = [3]\n",
    "sess.run(y, feed_dict={x: x_in})"
   ]
  },
  {
   "cell_type": "code",
   "execution_count": 84,
   "metadata": {},
   "outputs": [
    {
     "data": {
      "text/plain": [
       "4.0907879"
      ]
     },
     "execution_count": 84,
     "metadata": {},
     "output_type": "execute_result"
    }
   ],
   "source": [
    "# Calculate loss on the evaluation data before training\n",
    "def eval_loss():\n",
    "    return sess.run(loss, feed_dict={x: x_eval, y_label: y_eval})\n",
    "eval_loss()"
   ]
  },
  {
   "cell_type": "code",
   "execution_count": 85,
   "metadata": {},
   "outputs": [],
   "source": [
    "# Track of how loss changes, so we can visualize it in TensorBoard\n",
    "tf.summary.scalar('loss', loss)\n",
    "summary_op = tf.summary.merge_all()"
   ]
  },
  {
   "cell_type": "code",
   "execution_count": 86,
   "metadata": {},
   "outputs": [
    {
     "name": "stdout",
     "output_type": "stream",
     "text": [
      "0 [array([ 0.3591727], dtype=float32), array([ 0.73669899], dtype=float32)]\n",
      "20 [array([ 0.10021377], dtype=float32), array([ 0.30003777], dtype=float32)]\n",
      "40 [array([ 0.09564207], dtype=float32), array([ 0.30253857], dtype=float32)]\n",
      "60 [array([ 0.094291], dtype=float32), array([ 0.30327761], dtype=float32)]\n",
      "80 [array([ 0.09389172], dtype=float32), array([ 0.30349603], dtype=float32)]\n",
      "100 [array([ 0.09377371], dtype=float32), array([ 0.30356058], dtype=float32)]\n",
      "120 [array([ 0.09373882], dtype=float32), array([ 0.30357966], dtype=float32)]\n",
      "140 [array([ 0.09372854], dtype=float32), array([ 0.30358529], dtype=float32)]\n",
      "160 [array([ 0.09372547], dtype=float32), array([ 0.30358696], dtype=float32)]\n",
      "180 [array([ 0.0937246], dtype=float32), array([ 0.30358744], dtype=float32)]\n",
      "200 [array([ 0.09372433], dtype=float32), array([ 0.30358759], dtype=float32)]\n"
     ]
    }
   ],
   "source": [
    "# Perform training.\n",
    "for step in range(201):\n",
    "    # Run the training op; feed the training data into the graph\n",
    "    summary_str, _ = sess.run([summary_op, train], feed_dict={x: x_train, y_label: y_train})\n",
    "    sw.add_summary(summary_str, step)\n",
    "    # Uncomment the following two lines to watch training happen real time.\n",
    "    if step % 20 == 0:\n",
    "        print(step, sess.run([W, b]))"
   ]
  },
  {
   "cell_type": "code",
   "execution_count": 45,
   "metadata": {},
   "outputs": [
    {
     "data": {
      "text/plain": [
       "<matplotlib.legend.Legend at 0x181fc4d5d0>"
      ]
     },
     "execution_count": 45,
     "metadata": {},
     "output_type": "execute_result"
    },
    {
     "data": {
      "image/png": "[encoded data removed]",
      "text/plain": [
       "<matplotlib.figure.Figure at 0x181fd1e610>"
      ]
     },
     "metadata": {},
     "output_type": "display_data"
    }
   ],
   "source": [
    "# Uncomment the following lines to plot the predicted values\n",
    "pylab.plot(x_train, y_train, '.', label=\"target\")\n",
    "pylab.plot(x_train, sess.run(y, feed_dict={x: x_train, y_label: y_train}), label=\"predicted\")\n",
    "pylab.legend()"
   ]
  },
  {
   "cell_type": "code",
   "execution_count": 46,
   "metadata": {},
   "outputs": [
    {
     "data": {
      "text/plain": [
       "0.00012203625"
      ]
     },
     "execution_count": 46,
     "metadata": {},
     "output_type": "execute_result"
    }
   ],
   "source": [
    "# Check accuracy on eval data after training\n",
    "eval_loss()"
   ]
  },
  {
   "cell_type": "markdown",
   "metadata": {},
   "source": [
    "Demonstrate saving and restoring a model"
   ]
  },
  {
   "cell_type": "code",
   "execution_count": 87,
   "metadata": {},
   "outputs": [],
   "source": [
    "def predict(x_in): return sess.run(y, feed_dict={x: [x_in]})"
   ]
  },
  {
   "cell_type": "code",
   "execution_count": 88,
   "metadata": {},
   "outputs": [
    {
     "data": {
      "text/plain": [
       "'./my_checkpoint.ckpt'"
      ]
     },
     "execution_count": 88,
     "metadata": {},
     "output_type": "execute_result"
    }
   ],
   "source": [
    "# Save the model\n",
    "saver = tf.train.Saver()\n",
    "saver.save(sess, './my_checkpoint.ckpt')"
   ]
  },
  {
   "cell_type": "code",
   "execution_count": 89,
   "metadata": {},
   "outputs": [
    {
     "data": {
      "text/plain": [
       "array([ 0.58476055], dtype=float32)"
      ]
     },
     "execution_count": 89,
     "metadata": {},
     "output_type": "execute_result"
    }
   ],
   "source": [
    "# Current prediction\n",
    "predict(3)"
   ]
  },
  {
   "cell_type": "code",
   "execution_count": 90,
   "metadata": {},
   "outputs": [],
   "source": [
    "# Reset the model by running the init op again\n",
    "sess.run(init) "
   ]
  },
  {
   "cell_type": "code",
   "execution_count": 91,
   "metadata": {},
   "outputs": [
    {
     "data": {
      "text/plain": [
       "array([-3.8621068], dtype=float32)"
      ]
     },
     "execution_count": 91,
     "metadata": {},
     "output_type": "execute_result"
    }
   ],
   "source": [
    "# Prediction after variables reinitialized\n",
    "predict(3)"
   ]
  },
  {
   "cell_type": "code",
   "execution_count": 54,
   "metadata": {},
   "outputs": [
    {
     "name": "stdout",
     "output_type": "stream",
     "text": [
      "INFO:tensorflow:Restoring parameters from ./my_checkpoint.ckpt\n"
     ]
    }
   ],
   "source": [
    "saver.restore(sess, './my_checkpoint.ckpt')"
   ]
  },
  {
   "cell_type": "code",
   "execution_count": 55,
   "metadata": {},
   "outputs": [
    {
     "data": {
      "text/plain": [
       "array([ 0.61810893], dtype=float32)"
      ]
     },
     "execution_count": 55,
     "metadata": {},
     "output_type": "execute_result"
    }
   ],
   "source": [
    "# Predictions after variables restored\n",
    "predict(3)"
   ]
  },
  {
   "cell_type": "code",
   "execution_count": null,
   "metadata": {},
   "outputs": [],
   "source": []
  }
 ],
 "metadata": {
  "kernelspec": {
   "display_name": "Python 2",
   "language": "python",
   "name": "python2"
  },
  "language_info": {
   "codemirror_mode": {
    "name": "ipython",
    "version": 2
   },
   "file_extension": ".py",
   "mimetype": "text/x-python",
   "name": "python",
   "nbconvert_exporter": "python",
   "pygments_lexer": "ipython2",
   "version": "2.7.13"
  }
 },
 "nbformat": 4,
 "nbformat_minor": 1
}
