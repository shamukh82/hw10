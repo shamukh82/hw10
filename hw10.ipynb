{
 "cells": [
  {
   "cell_type": "code",
   "execution_count": null,
   "metadata": {},
   "outputs": [],
   "source": [
    "import tensorflow as tf\n",
    "\n",
    "tf.reset_default_graph()\n",
    "\n",
    "graph = tf.Graph()\n",
    "\n",
    "with graph.as_default():\n",
    "    \n",
    "    with tf.name_scope(\"Scope_A\"):\n",
    "        a = tf.add(1, 2, name=\"A_add\")\n",
    "        b = tf.multiply(a, 3, name=\"A_mul\")\n",
    "    with tf.name_scope(\"Scope_B\"):\n",
    "        c = tf.add(4, 5, name=\"B_add\")\n",
    "        d = tf.multiply(c, 6, name=\"B_mul\")\n",
    "    #e = tf.add(b, d, name=\"output\")\n",
    "\n",
    "    #output = tf.scalar_mul(b,d)    \n",
    " \n",
    "result = tf.multiply(b,d,name=\"output\")\n",
    "\n",
    "filewriter = tf.summary.FileWriter(\"name_scope_12\", graph=graph)\n",
    "filewriter.close()"
   ]
  },
  {
   "cell_type": "code",
   "execution_count": null,
   "metadata": {},
   "outputs": [],
   "source": [
    "from math import *\n",
    "from decimal import Decimal,getcontext\n",
    "getcontext().prec = 7\n",
    "\n",
    "def fact(n):\n",
    "    num = 1\n",
    "    while n >= 1:\n",
    "        num = num * n\n",
    "        n = n - 1\n",
    "    return num\n",
    "\n",
    "first_value = Decimal(0)\n",
    "item=0\n",
    "    \n",
    "    #attempt to Approximate e^x for a given value\n",
    "while True:\n",
    "    next_value = Decimal(item)/fact(item)\n",
    "    first_value += next_value\n",
    "    print first_value\n",
    "    if first_value > 2.718281:\n",
    "            break\n",
    "    item=item+1\n",
    "print first_value\n",
    "   "
   ]
  },
  {
   "cell_type": "code",
   "execution_count": 19,
   "metadata": {},
   "outputs": [
    {
     "name": "stdout",
     "output_type": "stream",
     "text": [
      "3.0\n",
      "3.0\n",
      "2.5\n",
      "2.16666662693\n",
      "2.04166662693\n",
      "2.00833332539\n",
      "2.00138890743\n",
      "2.00019836426\n",
      "2.00002479553\n",
      "2.00000274181\n"
     ]
    }
   ],
   "source": [
    "import tensorflow as tf\n",
    "\n",
    "def fact(x):\n",
    "  # x will be a numpy array with the contents of the placeholder below\n",
    "  return numpy.math.factorial(x)\n",
    "\n",
    "with tf.Graph().as_default() as g:\n",
    "   \n",
    "    counter = tf.Variable(1.000000,'counter')\n",
    "    next_value = tf.Variable(1.000000,'next_value')\n",
    "    \n",
    "    \n",
    "    f0=tf.exp(tf.lgamma(counter-1))\n",
    "    f2 = tf.divide(1,f0)\n",
    "    f3 = tf.add(next_value,f2)\n",
    "    inc = tf.assign_add(counter, 1, name='increment')\n",
    "    init = tf.global_variables_initializer() \n",
    "\n",
    "    with tf.Session() as sess:\n",
    "        sess.run(init) \n",
    "        for step in range(10):\n",
    "            sess.run(inc)\n",
    "            print(1+sess.run(f3))\n",
    "            \n",
    "           #if x > 2.718281:\n",
    "             #   print x\n",
    "              #  break\n",
    "            \n",
    "                \n",
    "file_writer = tf.summary.FileWriter(\"exp01\", sess.graph)\n",
    "file_writer.add_graph(sess.graph)\n",
    "file_writer.close() \n",
    "sess.close()    \n",
    "    \n",
    "    \n",
    "    "
   ]
  },
  {
   "cell_type": "code",
   "execution_count": null,
   "metadata": {},
   "outputs": [],
   "source": []
  },
  {
   "cell_type": "code",
   "execution_count": null,
   "metadata": {},
   "outputs": [],
   "source": []
  },
  {
   "cell_type": "code",
   "execution_count": null,
   "metadata": {},
   "outputs": [],
   "source": []
  },
  {
   "cell_type": "code",
   "execution_count": null,
   "metadata": {},
   "outputs": [],
   "source": []
  }
 ],
 "metadata": {
  "kernelspec": {
   "display_name": "Python 2",
   "language": "python",
   "name": "python2"
  },
  "language_info": {
   "codemirror_mode": {
    "name": "ipython",
    "version": 2
   },
   "file_extension": ".py",
   "mimetype": "text/x-python",
   "name": "python",
   "nbconvert_exporter": "python",
   "pygments_lexer": "ipython2",
   "version": "2.7.13"
  }
 },
 "nbformat": 4,
 "nbformat_minor": 2
}
